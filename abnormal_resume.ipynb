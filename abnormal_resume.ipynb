{
 "cells": [
  {
   "cell_type": "code",
   "execution_count": null,
   "metadata": {},
   "outputs": [],
   "source": [
    "%%writefile abnormal_resume.py\n",
    "import re\n",
    "import time\n",
    "\n",
    "from nltk.tokenize import sent_tokenize\n",
    "from sklearn.feature_extraction.text import TfidfVectorizer\n",
    "from collections import defaultdict\n",
    "from tqdm import tqdm\n",
    "\n",
    "def Abnormal_Resume_Main(RESUME):\n",
    "    \n",
    "    try:\n",
    "        MIN_LENGTH = 50 # 하이퍼 파라미터 : 길이가 30자 미만인 자소서 검출\n",
    "        RATIO_LIMIT = 0.05 # 하이퍼 파라미터 : 전체 글자수에서 해당 단어의 비율 [RATIO_LIMIT] 이상이면 검출\n",
    "\n",
    "        abnormal_result = dict()\n",
    "        corpus_len = len(RESUME) # 자기소개서 길이\n",
    "\n",
    "        # 0. null값 체크\n",
    "        if (RESUME == None) or (RESUME == '.') or (RESUME == ' ') or (RESUME == ''):\n",
    "            abnormal_result['0'] = \"정상적인 자기소개서가 입력되지 않았습니다.\"\n",
    "\n",
    "        # 1. 길이 체크\n",
    "        if len(RESUME) < MIN_LENGTH:\n",
    "            abnormal_result['1'] = \"자기소개서의 길이가 짧습니다.\"\n",
    "\n",
    "        abnormal_word_li = []\n",
    "\n",
    "        # 2. 한글 : 자음/모음만 있는 단어 / 영어 및 숫자 : 전체에서 너무 많은 부분을 차지한다면 검출 ex) asdfafas\n",
    "        han = re.compile('[ㄱ-ㅎ]+')  # 자음이 1회 이상 반복되는 걸 찾는다. ex) ㅇㅇ\n",
    "        abnormal_word_han = han.findall(RESUME)\n",
    "\n",
    "        han_mo = re.compile('[ㅏ-ㅣ]+')  # 모음이 1회 이상 반복되는 걸 찾는다. ex) ㅇㅇ\n",
    "        abnormal_word_han_mo = han_mo.findall(RESUME)\n",
    "\n",
    "        eng = re.compile('[a-zA-Z]+') # 영어 단어 모두 찾는다.\n",
    "        abnormal_word_eng = eng.findall(RESUME)\n",
    "\n",
    "        num = re.compile('[0-9]+') # 숫자 단어 모두 찾는다.\n",
    "        abnormal_word_num = num.findall(RESUME)\n",
    "\n",
    "        spe_char = re.compile('[^ㄱ-ㅣ가-힣|a-zA-Z|0-9|.]+') # 특수문자 모두 찾는다.\n",
    "        abnormal_word_spe_char = spe_char.findall(RESUME)\n",
    "\n",
    "\n",
    "        if (abnormal_word_han != []) or (abnormal_word_eng != []) or (abnormal_word_num != []) or (abnormal_word_spe_char != []) or (abnormal_word_han_mo != []):\n",
    "\n",
    "            abnormal_word = set(abnormal_word_han + abnormal_word_eng + abnormal_word_num + abnormal_word_spe_char + abnormal_word_han_mo) # list 합치고 중복제거\n",
    "\n",
    "            for word in abnormal_word:\n",
    "\n",
    "                abnormal_ratio = round(len(word) / corpus_len, 3)  # abnormal_ratio = 이상 글자수 / 전체 글자수\n",
    "\n",
    "                if (abnormal_ratio >= RATIO_LIMIT): # 일부 쓰는 경우 정상 자소서로 판단 ex) ㅇㅈ은 저의 무기\n",
    "                    abnormal_word_li.append([word, abnormal_ratio])\n",
    "\n",
    "        if len(abnormal_word_li) > 0:\n",
    "            abnormal_result['2'] = abnormal_word_li\n",
    "\n",
    "        # 3-1. TF-IDF 학습 전 전처리\n",
    "        tfidf_word_li = []\n",
    "        \n",
    "        RESUME = re.sub(\"(&)[&|a-zA-Z]+(;)\", \" \", RESUME)\n",
    "        RESUME = re.sub(\"&#[0-9]+;\", \" \", RESUME)\n",
    "        RESUME = re.sub(\"[^ㄱ-ㅣ가-힣|a-zA-Z|0-9|]+\", \" \", RESUME)\n",
    "        corpus = RESUME\n",
    "\n",
    "        RESUME_SENT_TOK = sent_tokenize(RESUME)\n",
    "\n",
    "        # 3-2. TF-IDF Fitting\n",
    "        tfidf_criteria_result = Abnormal_Resume_Tfidf(RESUME_SENT_TOK)\n",
    "\n",
    "        if (tfidf_criteria_result != []): # TF-IDF 기준 점수를 초과하는 단어가 있는지 확인\n",
    "\n",
    "            for word, abnormal_ratio in tfidf_criteria_result:\n",
    "\n",
    "                # tf-idf로 추출된 반복 의심 단어가 해당 자소서에서 얼마나 차지하는지 계산한다.\n",
    "                tfidf_word = re.compile(word)\n",
    "                tfidf_word_all = tfidf_word.findall(corpus)\n",
    "                tfidf_word_leng = sum([len(word) for word in tfidf_word_all])\n",
    "                repeated_ratio = round(tfidf_word_leng / corpus_len, 3)\n",
    "\n",
    "                if (repeated_ratio >= RATIO_LIMIT): # 의심단어가 자소서 전체에서 비율이 얼마 없다면 정상으로 판단\n",
    "                    tfidf_word_li.append([word, abnormal_ratio])\n",
    "        \n",
    "        if len(tfidf_word_li) > 0:\n",
    "            abnormal_result['3'] = tfidf_word_li\n",
    "                    \n",
    "    except Exception as e:\n",
    "        pass\n",
    "    \n",
    "    return abnormal_result\n",
    "\n",
    "\n",
    "def Abnormal_Resume_Tfidf(RESUME):\n",
    "       \n",
    "    # TF-IDF\n",
    "    try:\n",
    "        corpus = RESUME\n",
    "        # 하이퍼 파라미터로 아래 점수 이상인 단어만 반환한다.\n",
    "        tfidf_criteria_score = 0.2\n",
    "        \n",
    "        vectorizer = TfidfVectorizer()\n",
    "        sp_matrix = vectorizer.fit_transform(corpus)\n",
    "\n",
    "        word2id = defaultdict(lambda : 0) # idx 값 \n",
    "\n",
    "        for idx, feature in enumerate(vectorizer.get_feature_names()):\n",
    "            word2id[feature] = idx\n",
    "\n",
    "        for i, sent in enumerate(corpus):\n",
    "             tfidf_result = [(token, sp_matrix[i, word2id[token]]) for token in sent.split()]\n",
    "\n",
    "        tfidf_result = set(tfidf_result) # 중복제거\n",
    "\n",
    "        tfidf_criteria_result = list() # 기준점수 이상인 단어와 tf-idf score를 담는다.\n",
    "\n",
    "        for word, tfidf_score in tfidf_result:\n",
    "\n",
    "            if tfidf_score > tfidf_criteria_score:\n",
    "                tfidf_criteria_result.append([word, tfidf_score])\n",
    "\n",
    "    except ValueError:\n",
    "        \n",
    "        tfidf_criteria_result = []\n",
    "        return tfidf_criteria_result\n",
    "    \n",
    "    return tfidf_criteria_result"
   ]
  },
  {
   "cell_type": "code",
   "execution_count": 1,
   "metadata": {},
   "outputs": [
    {
     "data": {
      "text/plain": [
       "{}"
      ]
     },
     "execution_count": 1,
     "metadata": {},
     "output_type": "execute_result"
    }
   ],
   "source": [
    "from abnormal_resume import *\n",
    "\n",
    "# 정상적인 자기소개서는 {} 로 반환됨.\n",
    "RESUME = \"저는 안양 평화보육원 봉사 동아리 AMIS에서 3년간 활동하고 있고, 71대 회장으로서도 활동하였습니다. 저희 동아리는 매달 지출되는 학습, 공동체 활동, 연간 행사 및 선물비, 여름 수련회등 연간 약 천만 원 정도의 비용이 듭니다. 이 비용이 대학생들에게 크게 부담된다고 판단하여 제가 회장 때 2가지를 기획했습니다. 첫 번째는 후원 모집, 두 번째는 일일 호프였습니다. 후원 포스터와 소식지를 제작하고, 후원 모집 글을 동아리 홈페이지, 카페, 페이스북 그룹 등에 공지하였습니다. 그 결과 일곱 분의 선배님이 후원 약속을 하셨고, 14기 선배님분들은 계 모임을 통해서 매년 200만 원의 후원을 약속해주셨습니다.두 번째로 일일 호프 행사를 기획하였습니다. 처음 해보는 행사였기 때문에 수많은 회의도 거치고 다른 일일 호프 행사도 많이 다녀보았습니다. 다양한 게임과 이벤트를 준비하였고 티켓과 홍보피켓을 제작하여 선배들을 초대하고, 각각 동아리 원들이 서빙, 요리, 게임 등의 역할을 분담하여 진행하였습니다. 그 결과 약 90만 원의 이익을 얻을 수 있었습니다.현재는 일일호프가 매 학기 행사로 발전했고, 없어질 뻔했었던 중고등 학생 수련회도 안정적으로 갈 수 있게 되었고, 동아리 원들의 비용 부담도 많이줄었습니다. 아무도 하지 않았던 새로운 시도여서 동아리 원들과 선배들의 우려를 많이 받았고, 저 또한 진행하면서 많이 두려웠습니다. 하지만 문제점을 직시하고, 제가 해결하지 않으면 안된다는생각에, 자신을 믿고 진행한 결과 해낼 수 있었습니다. 이번 결과로 노력하면 할 수 있다는 확신을 얻을 수 있었습니다.\"\n",
    "result = Abnormal_Resume_Main(RESUME)\n",
    "result"
   ]
  },
  {
   "cell_type": "code",
   "execution_count": 2,
   "metadata": {},
   "outputs": [
    {
     "data": {
      "text/plain": [
       "{'1': '자기소개서의 길이가 짧습니다.',\n",
       " '2': [['ㅋㅋㅋㅋ', 0.091]],\n",
       " '3': [['강아지', 0.31234752377721214],\n",
       "  ['ok', 0.6246950475544243],\n",
       "  ['고양이', 0.31234752377721214],\n",
       "  ['hi', 0.6246950475544243]]}"
      ]
     },
     "execution_count": 2,
     "metadata": {},
     "output_type": "execute_result"
    }
   ],
   "source": [
    "# 비정상 자기소개서 예시\n",
    "RESUME = \"강아지 고양이 강아지 고양이 ㅋㅋㅋㅋ ok ok ok ok hi hi hi hi\"\n",
    "result = Abnormal_Resume_Main(RESUME)\n",
    "result"
   ]
  },
  {
   "cell_type": "code",
   "execution_count": 3,
   "metadata": {},
   "outputs": [],
   "source": [
    "# 비정상 자기소개서 결과 예시\n",
    "# 0 : null값 체크\n",
    "# 1 : 길이 체크\n",
    "# 2 : 초성/영어/특수/숫자 체크\n",
    "# 3 : 반복 단어 체크\n",
    "result_example = {'0': '정상적인 자기소개서가 입력되지 않았습니다.', '1': '자기소개서의 길이가 짧습니다.', '2': [['ㄷㄷㄷㄷ', 0.276], ['ㅎㅎㅎ', 0.31], ['ㅋㅋ', 0.345]], '3': [['고양이', 0.7071067811865476], ['강아지', 0.7071067811865476]]}"
   ]
  },
  {
   "cell_type": "code",
   "execution_count": 4,
   "metadata": {},
   "outputs": [
    {
     "data": {
      "text/plain": [
       "dict_keys(['0', '1', '2', '3'])"
      ]
     },
     "execution_count": 4,
     "metadata": {},
     "output_type": "execute_result"
    }
   ],
   "source": [
    "# dict type key 조회하기\n",
    "result_example.keys()"
   ]
  },
  {
   "cell_type": "code",
   "execution_count": 5,
   "metadata": {},
   "outputs": [
    {
     "data": {
      "text/plain": [
       "[['고양이', 0.7071067811865476], ['강아지', 0.7071067811865476]]"
      ]
     },
     "execution_count": 5,
     "metadata": {},
     "output_type": "execute_result"
    }
   ],
   "source": [
    "# key값 조회\n",
    "result_example['3']"
   ]
  },
  {
   "cell_type": "code",
   "execution_count": null,
   "metadata": {},
   "outputs": [],
   "source": []
  }
 ],
 "metadata": {
  "kernelspec": {
   "display_name": "PyTorch 1.4 on Python 3.6 (CUDA 10.1)",
   "language": "python",
   "name": "python3"
  },
  "language_info": {
   "codemirror_mode": {
    "name": "ipython",
    "version": 3
   },
   "file_extension": ".py",
   "mimetype": "text/x-python",
   "name": "python",
   "nbconvert_exporter": "python",
   "pygments_lexer": "ipython3",
   "version": "3.6.9"
  }
 },
 "nbformat": 4,
 "nbformat_minor": 4
}
