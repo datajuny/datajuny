{
 "cells": [
  {
   "cell_type": "code",
   "execution_count": 3,
   "metadata": {},
   "outputs": [
    {
     "name": "stdout",
     "output_type": "stream",
     "text": [
      "using cached model\n",
      "using cached model\n",
      "using cached model\n",
      "딥러닝 최종 inference :  tensor(0)\n"
     ]
    }
   ],
   "source": [
    "# 딥러닝 결과 0 타 회사명 들어가도 괜찮은 것, 1이면 반드시 지원하는 회사명이어야 함.\n",
    "from bert_stopword_inference import *\n",
    "text = [['그래서 3학년을 마치고 시공과목 교수님을 찾아가 인턴을 해보고싶다고 부탁드렸고 동탄현장에 인턴실습생으로 들어갈 수 있게 되었습니다.']]\n",
    "output = BERT_inference(text)"
   ]
  },
  {
   "cell_type": "code",
   "execution_count": null,
   "metadata": {},
   "outputs": [],
   "source": []
  }
 ],
 "metadata": {
  "kernelspec": {
   "display_name": "conda_amazonei_mxnet_p36",
   "language": "python",
   "name": "conda_amazonei_mxnet_p36"
  },
  "language_info": {
   "codemirror_mode": {
    "name": "ipython",
    "version": 3
   },
   "file_extension": ".py",
   "mimetype": "text/x-python",
   "name": "python",
   "nbconvert_exporter": "python",
   "pygments_lexer": "ipython3",
   "version": "3.6.5"
  }
 },
 "nbformat": 4,
 "nbformat_minor": 4
}
